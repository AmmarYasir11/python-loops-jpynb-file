{
 "cells": [
  {
   "cell_type": "markdown",
   "id": "ba0767c0",
   "metadata": {},
   "source": [
    "1,4,9,16........100\n",
    "1,2,3,4.......10"
   ]
  },
  {
   "cell_type": "code",
   "execution_count": 1,
   "id": "0462d955",
   "metadata": {},
   "outputs": [
    {
     "name": "stdout",
     "output_type": "stream",
     "text": [
      "1\n",
      "4\n",
      "9\n",
      "16\n",
      "25\n",
      "36\n",
      "49\n",
      "64\n",
      "81\n",
      "100\n"
     ]
    }
   ],
   "source": [
    "i=1\n",
    "while i<=10:\n",
    "    print(i*i)\n",
    "    i=i+1\n",
    "    "
   ]
  },
  {
   "cell_type": "markdown",
   "id": "e7abae91",
   "metadata": {},
   "source": [
    "1+2+.....10=?"
   ]
  },
  {
   "cell_type": "code",
   "execution_count": 2,
   "id": "d4e9d0ac",
   "metadata": {},
   "outputs": [
    {
     "name": "stdout",
     "output_type": "stream",
     "text": [
      "1\n",
      "2\n",
      "3\n",
      "4\n",
      "5\n",
      "6\n",
      "7\n",
      "8\n",
      "9\n",
      "10\n"
     ]
    }
   ],
   "source": [
    "i=1\n",
    "sum=0\n",
    "while i<=10:\n",
    "    sum=sum+1\n",
    "    i=i+1\n",
    "    print(sum)"
   ]
  },
  {
   "cell_type": "markdown",
   "id": "96e2827e",
   "metadata": {},
   "source": [
    "1,5,14,30....1000"
   ]
  },
  {
   "cell_type": "code",
   "execution_count": 2,
   "id": "f98ebee0",
   "metadata": {},
   "outputs": [
    {
     "name": "stdout",
     "output_type": "stream",
     "text": [
      "1\n",
      "5\n",
      "14\n",
      "30\n",
      "55\n",
      "91\n",
      "140\n",
      "204\n",
      "285\n",
      "385\n"
     ]
    }
   ],
   "source": [
    "i=1\n",
    "sum=0\n",
    "while i<=10:\n",
    "    sum=sum+(i*i)\n",
    "    i=i+1\n",
    "    print(sum)"
   ]
  },
  {
   "cell_type": "markdown",
   "id": "38698b7f",
   "metadata": {},
   "source": [
    "factorial"
   ]
  },
  {
   "cell_type": "code",
   "execution_count": 5,
   "id": "8c619340",
   "metadata": {},
   "outputs": [
    {
     "name": "stdout",
     "output_type": "stream",
     "text": [
      "1\n",
      "2\n",
      "6\n",
      "24\n",
      "120\n",
      "120\n"
     ]
    }
   ],
   "source": [
    "n=5\n",
    "fect=1\n",
    "i=1\n",
    "while i<=n:\n",
    "    fect=fect*i\n",
    "    i=i+1\n",
    "    print(fect)\n",
    "print(fect)"
   ]
  },
  {
   "cell_type": "markdown",
   "id": "65bbb143",
   "metadata": {},
   "source": [
    "armstone(when reverse itn remeins same like 363)\n",
    " number and reverse the number using  while loop"
   ]
  },
  {
   "cell_type": "markdown",
   "id": "a91212d4",
   "metadata": {},
   "source": [
    "**for loop**"
   ]
  },
  {
   "cell_type": "markdown",
   "id": "6236a9a9",
   "metadata": {},
   "source": [
    "for each loop"
   ]
  },
  {
   "cell_type": "code",
   "execution_count": 7,
   "id": "e1ff5d56",
   "metadata": {},
   "outputs": [
    {
     "name": "stdout",
     "output_type": "stream",
     "text": [
      "0\n",
      "1\n",
      "2\n",
      "3\n",
      "4\n",
      "5\n",
      "6\n",
      "7\n",
      "8\n",
      "9\n"
     ]
    }
   ],
   "source": [
    "for i in range(10):\n",
    "    print(i)"
   ]
  },
  {
   "cell_type": "code",
   "execution_count": 8,
   "id": "78f597ff",
   "metadata": {},
   "outputs": [
    {
     "name": "stdout",
     "output_type": "stream",
     "text": [
      "10\n",
      "9\n",
      "8\n",
      "7\n",
      "6\n",
      "5\n",
      "4\n",
      "3\n",
      "2\n"
     ]
    }
   ],
   "source": [
    "for i in range(10,1,-1):\n",
    "    print(i)"
   ]
  },
  {
   "cell_type": "markdown",
   "id": "6f5867b5",
   "metadata": {},
   "source": [
    "100,99,98.....1"
   ]
  },
  {
   "cell_type": "code",
   "execution_count": 12,
   "id": "1fbb1dff",
   "metadata": {},
   "outputs": [
    {
     "name": "stdout",
     "output_type": "stream",
     "text": [
      "100\n",
      "99\n",
      "98\n",
      "97\n",
      "96\n",
      "95\n",
      "94\n",
      "93\n",
      "92\n",
      "91\n",
      "90\n",
      "89\n",
      "88\n",
      "87\n",
      "86\n",
      "85\n",
      "84\n",
      "83\n",
      "82\n",
      "81\n",
      "80\n",
      "79\n",
      "78\n",
      "77\n",
      "76\n",
      "75\n",
      "74\n",
      "73\n",
      "72\n",
      "71\n",
      "70\n",
      "69\n",
      "68\n",
      "67\n",
      "66\n",
      "65\n",
      "64\n",
      "63\n",
      "62\n",
      "61\n",
      "60\n",
      "59\n",
      "58\n",
      "57\n",
      "56\n",
      "55\n",
      "54\n",
      "53\n",
      "52\n",
      "51\n",
      "50\n",
      "49\n",
      "48\n",
      "47\n",
      "46\n",
      "45\n",
      "44\n",
      "43\n",
      "42\n",
      "41\n",
      "40\n",
      "39\n",
      "38\n",
      "37\n",
      "36\n",
      "35\n",
      "34\n",
      "33\n",
      "32\n",
      "31\n",
      "30\n",
      "29\n",
      "28\n",
      "27\n",
      "26\n",
      "25\n",
      "24\n",
      "23\n",
      "22\n",
      "21\n",
      "20\n",
      "19\n",
      "18\n",
      "17\n",
      "16\n",
      "15\n",
      "14\n",
      "13\n",
      "12\n",
      "11\n",
      "10\n",
      "9\n",
      "8\n",
      "7\n",
      "6\n",
      "5\n",
      "4\n",
      "3\n",
      "2\n",
      "1\n"
     ]
    }
   ],
   "source": [
    "i=100\n",
    "while i>=1:\n",
    "    print(i)\n",
    "    i=i-1\n",
    "   "
   ]
  },
  {
   "cell_type": "markdown",
   "id": "0dca0c1e",
   "metadata": {},
   "source": [
    "100,98,96......2"
   ]
  },
  {
   "cell_type": "code",
   "execution_count": 13,
   "id": "4a05bc46",
   "metadata": {},
   "outputs": [
    {
     "name": "stdout",
     "output_type": "stream",
     "text": [
      "100\n",
      "98\n",
      "96\n",
      "94\n",
      "92\n",
      "90\n",
      "88\n",
      "86\n",
      "84\n",
      "82\n",
      "80\n",
      "78\n",
      "76\n",
      "74\n",
      "72\n",
      "70\n",
      "68\n",
      "66\n",
      "64\n",
      "62\n",
      "60\n",
      "58\n",
      "56\n",
      "54\n",
      "52\n",
      "50\n",
      "48\n",
      "46\n",
      "44\n",
      "42\n",
      "40\n",
      "38\n",
      "36\n",
      "34\n",
      "32\n",
      "30\n",
      "28\n",
      "26\n",
      "24\n",
      "22\n",
      "20\n",
      "18\n",
      "16\n",
      "14\n",
      "12\n",
      "10\n",
      "8\n",
      "6\n",
      "4\n",
      "2\n"
     ]
    }
   ],
   "source": [
    "i=100\n",
    "while i>=2:\n",
    " print(i)\n",
    " i=i-2"
   ]
  },
  {
   "cell_type": "markdown",
   "id": "918a666f",
   "metadata": {},
   "source": [
    "**functions:**"
   ]
  },
  {
   "cell_type": "markdown",
   "id": "72b4f5c0",
   "metadata": {},
   "source": [
    "actual paremeter and formal peremeters:\n"
   ]
  },
  {
   "cell_type": "code",
   "execution_count": 14,
   "id": "76247965",
   "metadata": {},
   "outputs": [],
   "source": [
    "def show():\n",
    "    print(\"hi\")"
   ]
  },
  {
   "cell_type": "code",
   "execution_count": 15,
   "id": "c5593e22",
   "metadata": {},
   "outputs": [
    {
     "name": "stdout",
     "output_type": "stream",
     "text": [
      "hi\n",
      "hi\n",
      "hi\n"
     ]
    }
   ],
   "source": [
    "show()\n",
    "show()\n",
    "show()"
   ]
  },
  {
   "cell_type": "markdown",
   "id": "ef9a3da5",
   "metadata": {},
   "source": [
    "peremeters\n",
    "actual\n"
   ]
  },
  {
   "cell_type": "code",
   "execution_count": 18,
   "id": "d4341595",
   "metadata": {},
   "outputs": [],
   "source": [
    "def sum():\n",
    "    x=int(input(\"enter the value\"))\n",
    "    y=int(input(\"enter the value\"))\n",
    "    print(x+y)"
   ]
  },
  {
   "cell_type": "code",
   "execution_count": 19,
   "id": "2253d215",
   "metadata": {},
   "outputs": [
    {
     "name": "stdout",
     "output_type": "stream",
     "text": [
      "36\n"
     ]
    }
   ],
   "source": [
    "sum()"
   ]
  },
  {
   "cell_type": "markdown",
   "id": "45371646",
   "metadata": {},
   "source": [
    "formal peremeters"
   ]
  },
  {
   "cell_type": "code",
   "execution_count": 21,
   "id": "ad47f676",
   "metadata": {},
   "outputs": [],
   "source": [
    "def sum(x,y):\n",
    "    return(x+y)"
   ]
  },
  {
   "cell_type": "code",
   "execution_count": 22,
   "id": "55c96ecb",
   "metadata": {},
   "outputs": [
    {
     "name": "stdout",
     "output_type": "stream",
     "text": [
      "9\n"
     ]
    }
   ],
   "source": [
    "print(sum(4,5))"
   ]
  },
  {
   "cell_type": "markdown",
   "id": "dae01093",
   "metadata": {},
   "source": [
    "factorial using function"
   ]
  },
  {
   "cell_type": "code",
   "execution_count": 26,
   "id": "31a50ecf",
   "metadata": {},
   "outputs": [],
   "source": [
    "def fect():\n",
    "    n=5\n",
    "    i=1\n",
    "    f=1\n",
    "    while i<=n:\n",
    "        f=f*i\n",
    "        i+=1\n",
    "    print(f)\n"
   ]
  },
  {
   "cell_type": "code",
   "execution_count": 27,
   "id": "0fddc215",
   "metadata": {},
   "outputs": [
    {
     "name": "stdout",
     "output_type": "stream",
     "text": [
      "120\n"
     ]
    }
   ],
   "source": [
    "fect()"
   ]
  },
  {
   "cell_type": "code",
   "execution_count": 28,
   "id": "a172674c",
   "metadata": {},
   "outputs": [],
   "source": [
    "def fect(n):\n",
    "    i=1\n",
    "    f=1\n",
    "    while i<=n:\n",
    "        f=f*i\n",
    "        i+=1\n",
    "    print(f)\n"
   ]
  },
  {
   "cell_type": "code",
   "execution_count": 29,
   "id": "6d27b0f5",
   "metadata": {},
   "outputs": [
    {
     "name": "stdout",
     "output_type": "stream",
     "text": [
      "120\n"
     ]
    }
   ],
   "source": [
    "fect(5)"
   ]
  },
  {
   "cell_type": "code",
   "execution_count": 31,
   "id": "31b9f64d",
   "metadata": {},
   "outputs": [],
   "source": [
    "def fect(n):\n",
    "    i=1\n",
    "    f=1\n",
    "    while i<=n:\n",
    "        f=f*i\n",
    "        i+=1\n",
    "    return f\n"
   ]
  },
  {
   "cell_type": "code",
   "execution_count": 32,
   "id": "f32e13b0",
   "metadata": {},
   "outputs": [
    {
     "name": "stdout",
     "output_type": "stream",
     "text": [
      "120\n"
     ]
    }
   ],
   "source": [
    "print(fect(5))"
   ]
  },
  {
   "cell_type": "markdown",
   "id": "f6767dba",
   "metadata": {},
   "source": [
    "**loop with function:**"
   ]
  },
  {
   "cell_type": "code",
   "execution_count": 1,
   "id": "a3f366fc",
   "metadata": {},
   "outputs": [],
   "source": [
    "\n",
    "def max(n):\n",
    "    global mx\n",
    "    if n>mx:\n",
    "        mx=n\n",
    "    return mx\n"
   ]
  },
  {
   "cell_type": "code",
   "execution_count": 6,
   "id": "d47494ba",
   "metadata": {},
   "outputs": [
    {
     "name": "stdout",
     "output_type": "stream",
     "text": [
      "-4\n"
     ]
    }
   ],
   "source": [
    "mx=0\n",
    "n=0\n",
    "while n>=0:\n",
    "     n=int(input(\"enter the value\"))\n",
    "     m = max(n)\n",
    "print(n)\n"
   ]
  },
  {
   "cell_type": "markdown",
   "id": "cb1e8bab",
   "metadata": {},
   "source": [
    "reverse number using while loop"
   ]
  },
  {
   "cell_type": "code",
   "execution_count": null,
   "id": "1982791e",
   "metadata": {},
   "outputs": [],
   "source": [
    "def rev(n):\n",
    "    rev = 0\n",
    "    while rev > 0:\n",
    "        rev = n // 10\n",
    "\n",
    "\n",
    "\n",
    "     "
   ]
  }
 ],
 "metadata": {
  "kernelspec": {
   "display_name": "Python 3",
   "language": "python",
   "name": "python3"
  },
  "language_info": {
   "codemirror_mode": {
    "name": "ipython",
    "version": 3
   },
   "file_extension": ".py",
   "mimetype": "text/x-python",
   "name": "python",
   "nbconvert_exporter": "python",
   "pygments_lexer": "ipython3",
   "version": "3.13.3"
  }
 },
 "nbformat": 4,
 "nbformat_minor": 5
}
